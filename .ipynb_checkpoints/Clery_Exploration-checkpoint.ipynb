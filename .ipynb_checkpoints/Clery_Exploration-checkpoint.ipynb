{
 "cells": [
  {
   "cell_type": "code",
   "execution_count": 1,
   "metadata": {},
   "outputs": [],
   "source": [
    "# Author: Gale Proulx\n",
    "# Class:  CCC-410ITS\n",
    "# Certification of Authenticity:\n",
    "# I certify that this is my work and the DAT-330 class work,\n",
    "# except where I have given fully documented references to the work\n",
    "# of others. I understand the definition and consequences of plagiarism\n",
    "# and acknowledge that the assessor of this assignment may, for the purpose\n",
    "# of assessing this assignment reproduce this assignment and provide a\n",
    "# copy to another member of academic staff and / or communicate a copy of\n",
    "# this assignment to a plagiarism checking service(which may then retain a\n",
    "# copy of this assignment on its database for the purpose of future\n",
    "# plagiarism checking).\n",
    "\n",
    "# IMPORT DEPENDENCIES & SET CONFIGURATION\n",
    "# #####################################################################\n",
    "import pandas as pd\n",
    "import matplotlib.pyplot as plt\n",
    "\n",
    "INFO_COLS = ['UNITID_P', 'INSTNM', 'BRANCH', 'ADDRESS', 'CITY', 'STATE', \n",
    "             'ZIP', 'SECTOR_CD', 'SECTOR_DESC', 'MEN_TOTAL', \n",
    "             'WOMEN_TOTAL', 'TOTAL', 'YEAR']"
   ]
  },
  {
   "cell_type": "code",
   "execution_count": 2,
   "metadata": {},
   "outputs": [
    {
     "name": "stderr",
     "output_type": "stream",
     "text": [
      "c:\\program files\\python37\\lib\\site-packages\\IPython\\core\\interactiveshell.py:3051: DtypeWarning: Columns (6) have mixed types. Specify dtype option on import or set low_memory=False.\n",
      "  interactivity=interactivity, compiler=compiler, result=result)\n"
     ]
    }
   ],
   "source": [
    "df = pd.read_csv('MASTER_DATAFRAME.csv')"
   ]
  },
  {
   "cell_type": "code",
   "execution_count": 3,
   "metadata": {},
   "outputs": [
    {
     "data": {
      "text/html": [
       "<div>\n",
       "<style scoped>\n",
       "    .dataframe tbody tr th:only-of-type {\n",
       "        vertical-align: middle;\n",
       "    }\n",
       "\n",
       "    .dataframe tbody tr th {\n",
       "        vertical-align: top;\n",
       "    }\n",
       "\n",
       "    .dataframe thead th {\n",
       "        text-align: right;\n",
       "    }\n",
       "</style>\n",
       "<table border=\"1\" class=\"dataframe\">\n",
       "  <thead>\n",
       "    <tr style=\"text-align: right;\">\n",
       "      <th></th>\n",
       "      <th>UNITID_P</th>\n",
       "      <th>INSTNM</th>\n",
       "      <th>BRANCH</th>\n",
       "      <th>ADDRESS</th>\n",
       "      <th>CITY</th>\n",
       "      <th>STATE</th>\n",
       "      <th>ZIP</th>\n",
       "      <th>SECTOR_CD</th>\n",
       "      <th>SECTOR_DESC</th>\n",
       "      <th>MEN_TOTAL</th>\n",
       "      <th>...</th>\n",
       "      <th>SIM_A_NAT</th>\n",
       "      <th>LAR_T_GID</th>\n",
       "      <th>LAR_T_ET</th>\n",
       "      <th>LAR_T_NAT</th>\n",
       "      <th>INTIM_GID</th>\n",
       "      <th>INTIM_ET</th>\n",
       "      <th>INTIM_NAT</th>\n",
       "      <th>VANDAL_GID</th>\n",
       "      <th>VANDAL_ET</th>\n",
       "      <th>VANDAL_NAT</th>\n",
       "    </tr>\n",
       "  </thead>\n",
       "  <tbody>\n",
       "    <tr>\n",
       "      <th>0</th>\n",
       "      <td>100654001</td>\n",
       "      <td>Alabama A &amp; M University</td>\n",
       "      <td>Main Campus</td>\n",
       "      <td>4107 MERIDIAN ST</td>\n",
       "      <td>NORMAL</td>\n",
       "      <td>AL</td>\n",
       "      <td>35762</td>\n",
       "      <td>1</td>\n",
       "      <td>Public, 4-year or above</td>\n",
       "      <td>2413</td>\n",
       "      <td>...</td>\n",
       "      <td>0</td>\n",
       "      <td>0</td>\n",
       "      <td>0</td>\n",
       "      <td>0</td>\n",
       "      <td>0</td>\n",
       "      <td>0</td>\n",
       "      <td>0</td>\n",
       "      <td>0</td>\n",
       "      <td>0</td>\n",
       "      <td>0</td>\n",
       "    </tr>\n",
       "    <tr>\n",
       "      <th>1</th>\n",
       "      <td>100663001</td>\n",
       "      <td>University of Alabama at Birmingham</td>\n",
       "      <td>Main Campus</td>\n",
       "      <td>ADMINISTRATION BLDG SUITE 1070, 701 20th Stree...</td>\n",
       "      <td>BIRMINGHAM</td>\n",
       "      <td>AL</td>\n",
       "      <td>352940110</td>\n",
       "      <td>1</td>\n",
       "      <td>Public, 4-year or above</td>\n",
       "      <td>6814</td>\n",
       "      <td>...</td>\n",
       "      <td>0</td>\n",
       "      <td>0</td>\n",
       "      <td>0</td>\n",
       "      <td>0</td>\n",
       "      <td>0</td>\n",
       "      <td>0</td>\n",
       "      <td>0</td>\n",
       "      <td>0</td>\n",
       "      <td>0</td>\n",
       "      <td>0</td>\n",
       "    </tr>\n",
       "    <tr>\n",
       "      <th>2</th>\n",
       "      <td>100690001</td>\n",
       "      <td>Amridge University</td>\n",
       "      <td>Main Campus</td>\n",
       "      <td>1200 TAYLOR RD</td>\n",
       "      <td>MONTGOMERY</td>\n",
       "      <td>AL</td>\n",
       "      <td>361173553</td>\n",
       "      <td>2</td>\n",
       "      <td>Private nonprofit, 4-year or above</td>\n",
       "      <td>360</td>\n",
       "      <td>...</td>\n",
       "      <td>0</td>\n",
       "      <td>0</td>\n",
       "      <td>0</td>\n",
       "      <td>0</td>\n",
       "      <td>0</td>\n",
       "      <td>0</td>\n",
       "      <td>0</td>\n",
       "      <td>0</td>\n",
       "      <td>0</td>\n",
       "      <td>0</td>\n",
       "    </tr>\n",
       "    <tr>\n",
       "      <th>3</th>\n",
       "      <td>100706001</td>\n",
       "      <td>University of Alabama in Huntsville</td>\n",
       "      <td>Main Campus</td>\n",
       "      <td>301 SPARKMAN DR</td>\n",
       "      <td>HUNTSVILLE</td>\n",
       "      <td>AL</td>\n",
       "      <td>35899</td>\n",
       "      <td>1</td>\n",
       "      <td>Public, 4-year or above</td>\n",
       "      <td>4197</td>\n",
       "      <td>...</td>\n",
       "      <td>0</td>\n",
       "      <td>0</td>\n",
       "      <td>0</td>\n",
       "      <td>0</td>\n",
       "      <td>0</td>\n",
       "      <td>0</td>\n",
       "      <td>0</td>\n",
       "      <td>0</td>\n",
       "      <td>0</td>\n",
       "      <td>0</td>\n",
       "    </tr>\n",
       "    <tr>\n",
       "      <th>4</th>\n",
       "      <td>100724001</td>\n",
       "      <td>Alabama State University</td>\n",
       "      <td>Main Campus</td>\n",
       "      <td>915 SOUTH JACKSON ST</td>\n",
       "      <td>MONTGOMERY</td>\n",
       "      <td>AL</td>\n",
       "      <td>361040271</td>\n",
       "      <td>1</td>\n",
       "      <td>Public, 4-year or above</td>\n",
       "      <td>2108</td>\n",
       "      <td>...</td>\n",
       "      <td>0</td>\n",
       "      <td>0</td>\n",
       "      <td>0</td>\n",
       "      <td>0</td>\n",
       "      <td>0</td>\n",
       "      <td>0</td>\n",
       "      <td>0</td>\n",
       "      <td>0</td>\n",
       "      <td>0</td>\n",
       "      <td>0</td>\n",
       "    </tr>\n",
       "  </tbody>\n",
       "</table>\n",
       "<p>5 rows × 176 columns</p>\n",
       "</div>"
      ],
      "text/plain": [
       "    UNITID_P                               INSTNM       BRANCH  \\\n",
       "0  100654001             Alabama A & M University  Main Campus   \n",
       "1  100663001  University of Alabama at Birmingham  Main Campus   \n",
       "2  100690001                   Amridge University  Main Campus   \n",
       "3  100706001  University of Alabama in Huntsville  Main Campus   \n",
       "4  100724001             Alabama State University  Main Campus   \n",
       "\n",
       "                                             ADDRESS        CITY STATE  \\\n",
       "0                                   4107 MERIDIAN ST      NORMAL    AL   \n",
       "1  ADMINISTRATION BLDG SUITE 1070, 701 20th Stree...  BIRMINGHAM    AL   \n",
       "2                                     1200 TAYLOR RD  MONTGOMERY    AL   \n",
       "3                                    301 SPARKMAN DR  HUNTSVILLE    AL   \n",
       "4                               915 SOUTH JACKSON ST  MONTGOMERY    AL   \n",
       "\n",
       "         ZIP  SECTOR_CD                         SECTOR_DESC  MEN_TOTAL  ...  \\\n",
       "0      35762          1             Public, 4-year or above       2413  ...   \n",
       "1  352940110          1             Public, 4-year or above       6814  ...   \n",
       "2  361173553          2  Private nonprofit, 4-year or above        360  ...   \n",
       "3      35899          1             Public, 4-year or above       4197  ...   \n",
       "4  361040271          1             Public, 4-year or above       2108  ...   \n",
       "\n",
       "   SIM_A_NAT  LAR_T_GID  LAR_T_ET  LAR_T_NAT  INTIM_GID  INTIM_ET  INTIM_NAT  \\\n",
       "0          0          0         0          0          0         0          0   \n",
       "1          0          0         0          0          0         0          0   \n",
       "2          0          0         0          0          0         0          0   \n",
       "3          0          0         0          0          0         0          0   \n",
       "4          0          0         0          0          0         0          0   \n",
       "\n",
       "   VANDAL_GID  VANDAL_ET  VANDAL_NAT  \n",
       "0           0          0           0  \n",
       "1           0          0           0  \n",
       "2           0          0           0  \n",
       "3           0          0           0  \n",
       "4           0          0           0  \n",
       "\n",
       "[5 rows x 176 columns]"
      ]
     },
     "execution_count": 3,
     "metadata": {},
     "output_type": "execute_result"
    }
   ],
   "source": [
    "df.head()"
   ]
  },
  {
   "cell_type": "code",
   "execution_count": 4,
   "metadata": {},
   "outputs": [
    {
     "data": {
      "text/plain": [
       "163"
      ]
     },
     "execution_count": 4,
     "metadata": {},
     "output_type": "execute_result"
    }
   ],
   "source": [
    "# gather all columns reporting crimes\n",
    "stat_cols = [col for col in df.columns if col not in INFO_COLS]\n",
    "len(stat_cols)"
   ]
  },
  {
   "cell_type": "code",
   "execution_count": 5,
   "metadata": {},
   "outputs": [
    {
     "data": {
      "text/plain": [
       "108"
      ]
     },
     "execution_count": 5,
     "metadata": {},
     "output_type": "execute_result"
    }
   ],
   "source": [
    "# generate list off all columns that have at least one crime reported\n",
    "stat_cols = [col for col in stat_cols if df[col].sum() > 0]\n",
    "len(stat_cols)"
   ]
  },
  {
   "cell_type": "code",
   "execution_count": 6,
   "metadata": {},
   "outputs": [
    {
     "name": "stdout",
     "output_type": "stream",
     "text": [
      "(40399, 176)\n"
     ]
    },
    {
     "data": {
      "text/html": [
       "<div>\n",
       "<style scoped>\n",
       "    .dataframe tbody tr th:only-of-type {\n",
       "        vertical-align: middle;\n",
       "    }\n",
       "\n",
       "    .dataframe tbody tr th {\n",
       "        vertical-align: top;\n",
       "    }\n",
       "\n",
       "    .dataframe thead th {\n",
       "        text-align: right;\n",
       "    }\n",
       "</style>\n",
       "<table border=\"1\" class=\"dataframe\">\n",
       "  <thead>\n",
       "    <tr style=\"text-align: right;\">\n",
       "      <th></th>\n",
       "      <th>UNITID_P</th>\n",
       "      <th>INSTNM</th>\n",
       "      <th>BRANCH</th>\n",
       "      <th>ADDRESS</th>\n",
       "      <th>CITY</th>\n",
       "      <th>STATE</th>\n",
       "      <th>ZIP</th>\n",
       "      <th>SECTOR_CD</th>\n",
       "      <th>SECTOR_DESC</th>\n",
       "      <th>MEN_TOTAL</th>\n",
       "      <th>...</th>\n",
       "      <th>SIM_A_NAT</th>\n",
       "      <th>LAR_T_GID</th>\n",
       "      <th>LAR_T_ET</th>\n",
       "      <th>LAR_T_NAT</th>\n",
       "      <th>INTIM_GID</th>\n",
       "      <th>INTIM_ET</th>\n",
       "      <th>INTIM_NAT</th>\n",
       "      <th>VANDAL_GID</th>\n",
       "      <th>VANDAL_ET</th>\n",
       "      <th>VANDAL_NAT</th>\n",
       "    </tr>\n",
       "  </thead>\n",
       "  <tbody>\n",
       "    <tr>\n",
       "      <th>0</th>\n",
       "      <td>100654001</td>\n",
       "      <td>Alabama A &amp; M University</td>\n",
       "      <td>Main Campus</td>\n",
       "      <td>4107 MERIDIAN ST</td>\n",
       "      <td>NORMAL</td>\n",
       "      <td>AL</td>\n",
       "      <td>35762</td>\n",
       "      <td>1</td>\n",
       "      <td>Public, 4-year or above</td>\n",
       "      <td>2413</td>\n",
       "      <td>...</td>\n",
       "      <td>0</td>\n",
       "      <td>0</td>\n",
       "      <td>0</td>\n",
       "      <td>0</td>\n",
       "      <td>0</td>\n",
       "      <td>0</td>\n",
       "      <td>0</td>\n",
       "      <td>0</td>\n",
       "      <td>0</td>\n",
       "      <td>0</td>\n",
       "    </tr>\n",
       "    <tr>\n",
       "      <th>1</th>\n",
       "      <td>100663001</td>\n",
       "      <td>University of Alabama at Birmingham</td>\n",
       "      <td>Main Campus</td>\n",
       "      <td>ADMINISTRATION BLDG SUITE 1070, 701 20th Stree...</td>\n",
       "      <td>BIRMINGHAM</td>\n",
       "      <td>AL</td>\n",
       "      <td>352940110</td>\n",
       "      <td>1</td>\n",
       "      <td>Public, 4-year or above</td>\n",
       "      <td>6814</td>\n",
       "      <td>...</td>\n",
       "      <td>0</td>\n",
       "      <td>0</td>\n",
       "      <td>0</td>\n",
       "      <td>0</td>\n",
       "      <td>0</td>\n",
       "      <td>0</td>\n",
       "      <td>0</td>\n",
       "      <td>0</td>\n",
       "      <td>0</td>\n",
       "      <td>0</td>\n",
       "    </tr>\n",
       "    <tr>\n",
       "      <th>3</th>\n",
       "      <td>100706001</td>\n",
       "      <td>University of Alabama in Huntsville</td>\n",
       "      <td>Main Campus</td>\n",
       "      <td>301 SPARKMAN DR</td>\n",
       "      <td>HUNTSVILLE</td>\n",
       "      <td>AL</td>\n",
       "      <td>35899</td>\n",
       "      <td>1</td>\n",
       "      <td>Public, 4-year or above</td>\n",
       "      <td>4197</td>\n",
       "      <td>...</td>\n",
       "      <td>0</td>\n",
       "      <td>0</td>\n",
       "      <td>0</td>\n",
       "      <td>0</td>\n",
       "      <td>0</td>\n",
       "      <td>0</td>\n",
       "      <td>0</td>\n",
       "      <td>0</td>\n",
       "      <td>0</td>\n",
       "      <td>0</td>\n",
       "    </tr>\n",
       "    <tr>\n",
       "      <th>4</th>\n",
       "      <td>100724001</td>\n",
       "      <td>Alabama State University</td>\n",
       "      <td>Main Campus</td>\n",
       "      <td>915 SOUTH JACKSON ST</td>\n",
       "      <td>MONTGOMERY</td>\n",
       "      <td>AL</td>\n",
       "      <td>361040271</td>\n",
       "      <td>1</td>\n",
       "      <td>Public, 4-year or above</td>\n",
       "      <td>2108</td>\n",
       "      <td>...</td>\n",
       "      <td>0</td>\n",
       "      <td>0</td>\n",
       "      <td>0</td>\n",
       "      <td>0</td>\n",
       "      <td>0</td>\n",
       "      <td>0</td>\n",
       "      <td>0</td>\n",
       "      <td>0</td>\n",
       "      <td>0</td>\n",
       "      <td>0</td>\n",
       "    </tr>\n",
       "    <tr>\n",
       "      <th>5</th>\n",
       "      <td>100751001</td>\n",
       "      <td>The University of Alabama</td>\n",
       "      <td>Main Campus</td>\n",
       "      <td>946 University Blvd</td>\n",
       "      <td>TUSCALOOSA</td>\n",
       "      <td>AL</td>\n",
       "      <td>354870180</td>\n",
       "      <td>1</td>\n",
       "      <td>Public, 4-year or above</td>\n",
       "      <td>13434</td>\n",
       "      <td>...</td>\n",
       "      <td>0</td>\n",
       "      <td>0</td>\n",
       "      <td>0</td>\n",
       "      <td>0</td>\n",
       "      <td>0</td>\n",
       "      <td>0</td>\n",
       "      <td>0</td>\n",
       "      <td>0</td>\n",
       "      <td>0</td>\n",
       "      <td>0</td>\n",
       "    </tr>\n",
       "  </tbody>\n",
       "</table>\n",
       "<p>5 rows × 176 columns</p>\n",
       "</div>"
      ],
      "text/plain": [
       "    UNITID_P                               INSTNM       BRANCH  \\\n",
       "0  100654001             Alabama A & M University  Main Campus   \n",
       "1  100663001  University of Alabama at Birmingham  Main Campus   \n",
       "3  100706001  University of Alabama in Huntsville  Main Campus   \n",
       "4  100724001             Alabama State University  Main Campus   \n",
       "5  100751001            The University of Alabama  Main Campus   \n",
       "\n",
       "                                             ADDRESS        CITY STATE  \\\n",
       "0                                   4107 MERIDIAN ST      NORMAL    AL   \n",
       "1  ADMINISTRATION BLDG SUITE 1070, 701 20th Stree...  BIRMINGHAM    AL   \n",
       "3                                    301 SPARKMAN DR  HUNTSVILLE    AL   \n",
       "4                               915 SOUTH JACKSON ST  MONTGOMERY    AL   \n",
       "5                                946 University Blvd  TUSCALOOSA    AL   \n",
       "\n",
       "         ZIP  SECTOR_CD              SECTOR_DESC  MEN_TOTAL  ...  SIM_A_NAT  \\\n",
       "0      35762          1  Public, 4-year or above       2413  ...          0   \n",
       "1  352940110          1  Public, 4-year or above       6814  ...          0   \n",
       "3      35899          1  Public, 4-year or above       4197  ...          0   \n",
       "4  361040271          1  Public, 4-year or above       2108  ...          0   \n",
       "5  354870180          1  Public, 4-year or above      13434  ...          0   \n",
       "\n",
       "   LAR_T_GID  LAR_T_ET  LAR_T_NAT  INTIM_GID  INTIM_ET  INTIM_NAT  VANDAL_GID  \\\n",
       "0          0         0          0          0         0          0           0   \n",
       "1          0         0          0          0         0          0           0   \n",
       "3          0         0          0          0         0          0           0   \n",
       "4          0         0          0          0         0          0           0   \n",
       "5          0         0          0          0         0          0           0   \n",
       "\n",
       "   VANDAL_ET  VANDAL_NAT  \n",
       "0          0           0  \n",
       "1          0           0  \n",
       "3          0           0  \n",
       "4          0           0  \n",
       "5          0           0  \n",
       "\n",
       "[5 rows x 176 columns]"
      ]
     },
     "execution_count": 6,
     "metadata": {},
     "output_type": "execute_result"
    }
   ],
   "source": [
    "# remove all rows with no crimes reported\n",
    "important = df.loc[df[stat_cols].any(axis=1)]\n",
    "print(important.shape)\n",
    "important.head()"
   ]
  },
  {
   "cell_type": "code",
   "execution_count": 11,
   "metadata": {},
   "outputs": [
    {
     "data": {
      "text/plain": [
       "(10791, 121)"
      ]
     },
     "execution_count": 11,
     "metadata": {},
     "output_type": "execute_result"
    }
   ],
   "source": [
    "# remove all 2 year instiutions\n",
    "important = important.loc[important['SECTOR_CD'] < 4]\n",
    "important = important.loc[important['SECTOR_CD'] > 0]\n",
    "important.shape"
   ]
  },
  {
   "cell_type": "code",
   "execution_count": 12,
   "metadata": {},
   "outputs": [
    {
     "data": {
      "text/plain": [
       "(10791, 121)"
      ]
     },
     "execution_count": 12,
     "metadata": {},
     "output_type": "execute_result"
    }
   ],
   "source": [
    "# only include main campus and remove all columns with no crimes reported\n",
    "important = important.loc[important['BRANCH'] == 'Main Campus']\n",
    "important = important[stat_cols + INFO_COLS]\n",
    "important.shape"
   ]
  },
  {
   "cell_type": "code",
   "execution_count": 13,
   "metadata": {},
   "outputs": [
    {
     "name": "stdout",
     "output_type": "stream",
     "text": [
      "[9, 10, 11, 12, 13, 14, 15, 16, 17]\n",
      "[1254, 1272, 1269, 1250, 1237, 1203, 1119, 1102, 1085]\n"
     ]
    }
   ],
   "source": [
    "# find all colleges that reported crimes in respective categories\n",
    "year_list = list()\n",
    "institutions = list()\n",
    "for year in important['YEAR'].unique():\n",
    "    year_list.append(year)\n",
    "    institutions.append(important.loc[important['YEAR'] == year].shape[0])\n",
    "    \n",
    "print(year_list)\n",
    "print(institutions)"
   ]
  },
  {
   "cell_type": "code",
   "execution_count": 14,
   "metadata": {},
   "outputs": [
    {
     "data": {
      "text/plain": [
       "<matplotlib.collections.PathCollection at 0x15a53c255c0>"
      ]
     },
     "execution_count": 14,
     "metadata": {},
     "output_type": "execute_result"
    },
    {
     "data": {
      "image/png": "[encoded data removed]",
      "text/plain": [
       "<Figure size 432x288 with 1 Axes>"
      ]
     },
     "metadata": {
      "needs_background": "light"
     },
     "output_type": "display_data"
    }
   ],
   "source": [
    "plt.scatter(year_list, institutions)"
   ]
  }
 ],
 "metadata": {
  "kernelspec": {
   "display_name": "Python 3",
   "language": "python",
   "name": "python3"
  },
  "language_info": {
   "codemirror_mode": {
    "name": "ipython",
    "version": 3
   },
   "file_extension": ".py",
   "mimetype": "text/x-python",
   "name": "python",
   "nbconvert_exporter": "python",
   "pygments_lexer": "ipython3",
   "version": "3.7.0"
  }
 },
 "nbformat": 4,
 "nbformat_minor": 2
}
